{
 "cells": [
  {
   "cell_type": "markdown",
   "metadata": {},
   "source": [
    "# Data Wrangling Report\n"
   ]
  },
  {
   "cell_type": "markdown",
   "metadata": {},
   "source": [
    "* Gathering\n",
    "- Assessibg\n",
    "- Cleaning\n"
   ]
  },
  {
   "cell_type": "markdown",
   "metadata": {},
   "source": [
    "# 1 -  Gathering\n",
    "* we will open twitter_archive_enhanced.csv as a archive_df data frame .\n",
    "\n",
    "* we will open image_predictions.tsv as a Image_predictions_df data frame after downloading it. programmatically first.\n",
    "\n",
    "* we will open tweet_api.txt and transfom it to json and load it then extract the needed columns."
   ]
  },
  {
   "cell_type": "markdown",
   "metadata": {},
   "source": [
    "# 2 - Assessing\n",
    "* each data frame with assessed visually first using jupyter notebook and excell then programaticaly using pandas' functions and/or methods are used to assess the data.\n",
    "\n",
    "* searching every data frame for tidiness issues and searching for quality issues to find the following issues ."
   ]
  },
  {
   "cell_type": "markdown",
   "metadata": {},
   "source": [
    "## `A ) Quality Issues`\n",
    "> ## ( archive_df ) : \n",
    "> #### 1 - Remove the retweet rows.\n",
    "> #### 2 - Drop the unneeded rows.\n",
    "> #### 3 - Drop rows thar have no expanded images.\n",
    "> #### 4 - Transform timestamp column from string(object) into datetime.\n",
    "> #### 5 - Transform tweet_id column from int into string.\n",
    "> #### 6 - show and extract names from text that have 'a' values.\n",
    "> #### 7 - capitalize name column.\n",
    "> #### 8 - extract rating from text and add a new column called \"rating\" instead of \"rating_numerator\" and \"rating_denominator\".\n",
    "\n",
    "> ## ( image_predictions_df ) : \n",
    "> #### 10 - Transform tweet_id column from int into string.\n",
    "> #### 11 - rename p1,p2,p3,p1_dog......\n",
    "\n",
    "> ## ( api_df ) : \n",
    "> #### 12 - renanme id to  tweet_id column and transform from int into string.\n",
    "## `B ) Tidy Issues`\n",
    "> #### 1 - replace None values from doggo,floofer,pupper and puppo to \"\" and concat all columns to new column \"dog_stage\" and              drop doggo,floofer,pupper and puppo \n",
    "\n",
    "> #### 2 - Merge the 3 datasets in one dataset"
   ]
  },
  {
   "cell_type": "markdown",
   "metadata": {},
   "source": [
    "# Cleaning Data : \n",
    "- All the issues ( Quality - tidness ) were solved in the notebook using this criteria : \n",
    " #### `1 - Define`\n",
    " #### `2 - Code`\n",
    " #### `3 - Test`"
   ]
  },
  {
   "cell_type": "markdown",
   "metadata": {},
   "source": [
    "## Analysis of Data:\n",
    "- After data cleaning and visualization using different charts i could observe the following :\n",
    "\n",
    "1 - The followers reaction is very good the count of retweets and favourite is high and increasing over time .\n",
    "\n",
    "2 - golden retriever and Labrador retriever is the most common dogs breads .\n",
    "\n",
    "3 - The most common dog name is Charlie and on the second place come cooper , cooper and Lucy ."
   ]
  },
  {
   "cell_type": "code",
   "execution_count": null,
   "metadata": {},
   "outputs": [],
   "source": []
  }
 ],
 "metadata": {
  "kernelspec": {
   "display_name": "Python 3",
   "language": "python",
   "name": "python3"
  },
  "language_info": {
   "codemirror_mode": {
    "name": "ipython",
    "version": 3
   },
   "file_extension": ".py",
   "mimetype": "text/x-python",
   "name": "python",
   "nbconvert_exporter": "python",
   "pygments_lexer": "ipython3",
   "version": "3.8.5"
  }
 },
 "nbformat": 4,
 "nbformat_minor": 4
}
